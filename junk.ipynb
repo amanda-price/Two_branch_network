{
 "cells": [
  {
   "cell_type": "code",
   "execution_count": 10,
   "metadata": {},
   "outputs": [],
   "source": [
    "from src.retrieval_model import embedding_model\n",
    "from src.dataset_utils import DatasetLoader"
   ]
  },
  {
   "cell_type": "code",
   "execution_count": 9,
   "metadata": {},
   "outputs": [
    {
     "name": "stdout",
     "output_type": "stream",
     "text": [
      "Loading image features from data/test/flickr30k_features_test/flickr30k_vgg_image_feat_test.mat\n",
      "Loaded image feature shape: (1000, 4096)\n",
      "Loading sentence features from data/test/flickr30k_features_test/flickr30k_text_feat_test.mat\n"
     ]
    },
    {
     "name": "stderr",
     "output_type": "stream",
     "text": [
      "/home/amanda.price/Two_branch_network/src/dataset_utils.py:18: H5pyDeprecationWarning: The default file mode will change to 'r' (read-only) in h5py 3.0. To suppress this warning, pass the mode you need to h5py.File(), or set the global default h5.get_config().default_file_mode, or set the environment variable H5PY_DEFAULT_READONLY=1. Available modes are: 'r', 'r+', 'w', 'w-'/'x', 'a'. See the docs for details.\n",
      "  data_sent = h5py.File(sent_feat_path)\n"
     ]
    },
    {
     "name": "stdout",
     "output_type": "stream",
     "text": [
      "Loaded sentence feature shape: (5000, 6000)\n"
     ]
    }
   ],
   "source": [
    "image_feat_path = 'data/test/flickr30k_features_test/flickr30k_vgg_image_feat_test.mat'\n",
    "sent_feat_path = 'data/test/flickr30k_features_test/flickr30k_text_feat_test.mat'\n",
    "\n",
    "data_loader = DatasetLoader(image_feat_path, sent_feat_path, split='eval')\n",
    "num_ims, im_feat_dim = data_loader.im_feat_shape\n",
    "num_sents, sent_feat_dim = data_loader.sent_feat_shape"
   ]
  },
  {
   "cell_type": "code",
   "execution_count": 17,
   "metadata": {},
   "outputs": [],
   "source": [
    "model = embedding_model((num_ims,im_feat_dim),(num_sents,sent_feat_dim))"
   ]
  },
  {
   "cell_type": "code",
   "execution_count": 18,
   "metadata": {},
   "outputs": [
    {
     "name": "stdout",
     "output_type": "stream",
     "text": [
      "Model: \"functional_3\"\n",
      "__________________________________________________________________________________________________\n",
      "Layer (type)                    Output Shape         Param #     Connected to                     \n",
      "==================================================================================================\n",
      "image_input (InputLayer)        [(None, 1000, 4096)] 0                                            \n",
      "__________________________________________________________________________________________________\n",
      "sentence_input (InputLayer)     [(None, 5000, 6000)] 0                                            \n",
      "__________________________________________________________________________________________________\n",
      "img_fc-d1 (Dense)               (None, 1000, 2048)   8390656     image_input[0][0]                \n",
      "__________________________________________________________________________________________________\n",
      "sent_fc-d1 (Dense)              (None, 5000, 2048)   12290048    sentence_input[0][0]             \n",
      "__________________________________________________________________________________________________\n",
      "img_fc-bc (BatchNormalization)  (None, 1000, 2048)   8192        img_fc-d1[0][0]                  \n",
      "__________________________________________________________________________________________________\n",
      "sent_fc-bc (BatchNormalization) (None, 5000, 2048)   8192        sent_fc-d1[0][0]                 \n",
      "__________________________________________________________________________________________________\n",
      "img_fc-relu (ReLU)              (None, 1000, 2048)   0           img_fc-bc[0][0]                  \n",
      "__________________________________________________________________________________________________\n",
      "sent_fc-relu (ReLU)             (None, 5000, 2048)   0           sent_fc-bc[0][0]                 \n",
      "__________________________________________________________________________________________________\n",
      "img_fc-d2 (Dropout)             (None, 1000, 2048)   0           img_fc-relu[0][0]                \n",
      "__________________________________________________________________________________________________\n",
      "sent_fc-d2 (Dropout)            (None, 5000, 2048)   0           sent_fc-relu[0][0]               \n",
      "__________________________________________________________________________________________________\n",
      "fc2-d (Dense)                   (None, 1000, 512)    1049088     img_fc-d2[0][0]                  \n",
      "__________________________________________________________________________________________________\n",
      "fc2-sent (Dense)                (None, 5000, 512)    1049088     sent_fc-d2[0][0]                 \n",
      "__________________________________________________________________________________________________\n",
      "tf_op_layer_Square_2 (TensorFlo [(None, 1000, 512)]  0           fc2-d[0][0]                      \n",
      "__________________________________________________________________________________________________\n",
      "tf_op_layer_Square_3 (TensorFlo [(None, 5000, 512)]  0           fc2-sent[0][0]                   \n",
      "__________________________________________________________________________________________________\n",
      "tf_op_layer_Sum_2 (TensorFlowOp [(None, 1, 512)]     0           tf_op_layer_Square_2[0][0]       \n",
      "__________________________________________________________________________________________________\n",
      "tf_op_layer_Sum_3 (TensorFlowOp [(None, 1, 512)]     0           tf_op_layer_Square_3[0][0]       \n",
      "__________________________________________________________________________________________________\n",
      "tf_op_layer_Maximum_2 (TensorFl [(None, 1, 512)]     0           tf_op_layer_Sum_2[0][0]          \n",
      "__________________________________________________________________________________________________\n",
      "tf_op_layer_Maximum_3 (TensorFl [(None, 1, 512)]     0           tf_op_layer_Sum_3[0][0]          \n",
      "__________________________________________________________________________________________________\n",
      "tf_op_layer_Rsqrt_2 (TensorFlow [(None, 1, 512)]     0           tf_op_layer_Maximum_2[0][0]      \n",
      "__________________________________________________________________________________________________\n",
      "tf_op_layer_Rsqrt_3 (TensorFlow [(None, 1, 512)]     0           tf_op_layer_Maximum_3[0][0]      \n",
      "__________________________________________________________________________________________________\n",
      "tf_op_layer_Mul_2 (TensorFlowOp [(None, 1000, 512)]  0           fc2-d[0][0]                      \n",
      "                                                                 tf_op_layer_Rsqrt_2[0][0]        \n",
      "__________________________________________________________________________________________________\n",
      "tf_op_layer_Mul_3 (TensorFlowOp [(None, 5000, 512)]  0           fc2-sent[0][0]                   \n",
      "                                                                 tf_op_layer_Rsqrt_3[0][0]        \n",
      "==================================================================================================\n",
      "Total params: 22,795,264\n",
      "Trainable params: 22,787,072\n",
      "Non-trainable params: 8,192\n",
      "__________________________________________________________________________________________________\n"
     ]
    }
   ],
   "source": [
    "model.summary()"
   ]
  },
  {
   "cell_type": "code",
   "execution_count": null,
   "metadata": {},
   "outputs": [],
   "source": []
  }
 ],
 "metadata": {
  "kernelspec": {
   "display_name": "Python 3",
   "language": "python",
   "name": "python3"
  },
  "language_info": {
   "codemirror_mode": {
    "name": "ipython",
    "version": 3
   },
   "file_extension": ".py",
   "mimetype": "text/x-python",
   "name": "python",
   "nbconvert_exporter": "python",
   "pygments_lexer": "ipython3",
   "version": "3.8.0"
  }
 },
 "nbformat": 4,
 "nbformat_minor": 4
}
