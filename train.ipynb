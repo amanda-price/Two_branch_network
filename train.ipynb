{
 "metadata": {
  "language_info": {
   "codemirror_mode": {
    "name": "ipython",
    "version": 3
   },
   "file_extension": ".py",
   "mimetype": "text/x-python",
   "name": "python",
   "nbconvert_exporter": "python",
   "pygments_lexer": "ipython3",
   "version": "3.8.3-final"
  },
  "orig_nbformat": 2,
  "kernelspec": {
   "name": "python3",
   "display_name": "Python 3"
  }
 },
 "nbformat": 4,
 "nbformat_minor": 2,
 "cells": [
  {
   "cell_type": "code",
   "execution_count": 22,
   "metadata": {},
   "outputs": [
    {
     "output_type": "stream",
     "name": "stdout",
     "text": [
      "The autoreload extension is already loaded. To reload it, use:\n  %reload_ext autoreload\n"
     ]
    }
   ],
   "source": [
    "%load_ext autoreload\n",
    "%autoreload 2\n",
    "\n",
    "from src import *\n",
    "import tensorflow as tf"
   ]
  },
  {
   "cell_type": "code",
   "execution_count": 21,
   "metadata": {},
   "outputs": [],
   "source": [
    "batch_size = 1024\n",
    "epochs = 10\n",
    "image_feat_path = \"./data/test_data/flickr30k/flickr30k_vgg_image_feat_test.mat\"\n",
    "sent_feat_path = \"./data/test_data/flickr30k/flickr30k_text_feat_test.mat\"\n",
    "shuffle_step=5"
   ]
  },
  {
   "cell_type": "code",
   "execution_count": 3,
   "metadata": {},
   "outputs": [
    {
     "output_type": "stream",
     "name": "stdout",
     "text": [
      "Loading image features from ./data/test_data/flickr30k/flickr30k_vgg_image_feat_test.mat\nLoaded image feature shape: (1000, 4096)\nLoading sentence features from ./data/test_data/flickr30k/flickr30k_text_feat_test.mat\nLoaded sentence feature shape: (5000, 6000)\n"
     ]
    }
   ],
   "source": [
    "data_loader = DatasetLoader(image_feat_path, sent_feat_path)"
   ]
  },
  {
   "cell_type": "code",
   "execution_count": 7,
   "metadata": {},
   "outputs": [],
   "source": [
    "model = embedding_model(data_loader.im_feats.shape, data_loader.sent_feats.shape)\n",
    "loss = EmbeddingLoss()"
   ]
  },
  {
   "cell_type": "code",
   "execution_count": 23,
   "metadata": {},
   "outputs": [],
   "source": [
    "img_feats = data_loader.im_feats\n",
    "sent_feats = data_loader.sent_feats\n",
    "\n",
    "\n",
    "sent_sample_size = 5 # how many sentences per image\n",
    "\n",
    "total_loss, batch_loss = [], []\n",
    "optimizer = tf.keras.optimizers.Adam()"
   ]
  },
  {
   "cell_type": "code",
   "execution_count": 25,
   "metadata": {},
   "outputs": [
    {
     "output_type": "error",
     "ename": "ValueError",
     "evalue": "Layer model_2 expects 2 input(s), but it received 1 input tensors. Inputs received: [<tf.Tensor: shape=(1024, 4096), dtype=float32, numpy=\narray([[ -1.6155552 ,  -3.6643739 ,   1.3068848 , ...,  -6.1157217 ,\n         -0.67167836,   1.210375  ],\n       [ -1.6155552 ,  -3.6643739 ,   1.3068848 , ...,  -6.1157217 ,\n         -0.67167836,   1.210375  ],\n       [ -1.6155552 ,  -3.6643739 ,   1.3068848 , ...,  -6.1157217 ,\n         -0.67167836,   1.210375  ],\n       ...,\n       [ -0.8937439 ,  -1.1320702 ,  -0.5085614 , ..., -12.828728  ,\n         -0.04592862,   2.0970378 ],\n       [ -0.8937439 ,  -1.1320702 ,  -0.5085614 , ..., -12.828728  ,\n         -0.04592862,   2.0970378 ],\n       [ -0.8937439 ,  -1.1320702 ,  -0.5085614 , ..., -12.828728  ,\n         -0.04592862,   2.0970378 ]], dtype=float32)>]",
     "traceback": [
      "\u001b[1;31m---------------------------------------------------------------------------\u001b[0m",
      "\u001b[1;31mValueError\u001b[0m                                Traceback (most recent call last)",
      "\u001b[1;32m<ipython-input-25-47b1963a1a9a>\u001b[0m in \u001b[0;36m<module>\u001b[1;34m\u001b[0m\n\u001b[0;32m      8\u001b[0m     \u001b[0m_batch_loss\u001b[0m \u001b[1;33m=\u001b[0m \u001b[0mtf\u001b[0m\u001b[1;33m.\u001b[0m\u001b[0mconstant\u001b[0m\u001b[1;33m(\u001b[0m\u001b[1;36m0\u001b[0m\u001b[1;33m,\u001b[0m \u001b[0mdtype\u001b[0m\u001b[1;33m=\u001b[0m\u001b[0mtf\u001b[0m\u001b[1;33m.\u001b[0m\u001b[0mfloat32\u001b[0m\u001b[1;33m)\u001b[0m\u001b[1;33m\u001b[0m\u001b[1;33m\u001b[0m\u001b[0m\n\u001b[0;32m      9\u001b[0m     \u001b[1;32mwith\u001b[0m \u001b[0mtf\u001b[0m\u001b[1;33m.\u001b[0m\u001b[0mGradientTape\u001b[0m\u001b[1;33m(\u001b[0m\u001b[1;33m)\u001b[0m \u001b[1;32mas\u001b[0m \u001b[0mtape\u001b[0m\u001b[1;33m:\u001b[0m\u001b[1;33m\u001b[0m\u001b[1;33m\u001b[0m\u001b[0m\n\u001b[1;32m---> 10\u001b[1;33m         \u001b[1;33m[\u001b[0m\u001b[0mim_emb\u001b[0m\u001b[1;33m,\u001b[0m \u001b[0msent_emb\u001b[0m\u001b[1;33m]\u001b[0m \u001b[1;33m=\u001b[0m \u001b[0mmodel\u001b[0m\u001b[1;33m(\u001b[0m\u001b[0mim_feats\u001b[0m\u001b[1;33m,\u001b[0m \u001b[0msent_feats\u001b[0m\u001b[1;33m)\u001b[0m\u001b[1;33m\u001b[0m\u001b[1;33m\u001b[0m\u001b[0m\n\u001b[0m\u001b[0;32m     11\u001b[0m \u001b[1;33m\u001b[0m\u001b[0m\n\u001b[0;32m     12\u001b[0m         \u001b[0m_batch_loss\u001b[0m \u001b[1;33m+=\u001b[0m \u001b[0mloss\u001b[0m\u001b[1;33m(\u001b[0m\u001b[0mim_embeds\u001b[0m\u001b[1;33m,\u001b[0m \u001b[0msent_emb\u001b[0m\u001b[1;33m,\u001b[0m \u001b[0mlabels\u001b[0m\u001b[1;33m)\u001b[0m\u001b[1;33m\u001b[0m\u001b[1;33m\u001b[0m\u001b[0m\n",
      "\u001b[1;32m~\\Anaconda3\\envs\\voltron\\lib\\site-packages\\tensorflow\\python\\keras\\engine\\base_layer.py\u001b[0m in \u001b[0;36m__call__\u001b[1;34m(self, *args, **kwargs)\u001b[0m\n\u001b[0;32m    998\u001b[0m         \u001b[0minputs\u001b[0m \u001b[1;33m=\u001b[0m \u001b[0mself\u001b[0m\u001b[1;33m.\u001b[0m\u001b[0m_maybe_cast_inputs\u001b[0m\u001b[1;33m(\u001b[0m\u001b[0minputs\u001b[0m\u001b[1;33m,\u001b[0m \u001b[0minput_list\u001b[0m\u001b[1;33m)\u001b[0m\u001b[1;33m\u001b[0m\u001b[1;33m\u001b[0m\u001b[0m\n\u001b[0;32m    999\u001b[0m \u001b[1;33m\u001b[0m\u001b[0m\n\u001b[1;32m-> 1000\u001b[1;33m       \u001b[0minput_spec\u001b[0m\u001b[1;33m.\u001b[0m\u001b[0massert_input_compatibility\u001b[0m\u001b[1;33m(\u001b[0m\u001b[0mself\u001b[0m\u001b[1;33m.\u001b[0m\u001b[0minput_spec\u001b[0m\u001b[1;33m,\u001b[0m \u001b[0minputs\u001b[0m\u001b[1;33m,\u001b[0m \u001b[0mself\u001b[0m\u001b[1;33m.\u001b[0m\u001b[0mname\u001b[0m\u001b[1;33m)\u001b[0m\u001b[1;33m\u001b[0m\u001b[1;33m\u001b[0m\u001b[0m\n\u001b[0m\u001b[0;32m   1001\u001b[0m       \u001b[1;32mif\u001b[0m \u001b[0meager\u001b[0m\u001b[1;33m:\u001b[0m\u001b[1;33m\u001b[0m\u001b[1;33m\u001b[0m\u001b[0m\n\u001b[0;32m   1002\u001b[0m         \u001b[0mcall_fn\u001b[0m \u001b[1;33m=\u001b[0m \u001b[0mself\u001b[0m\u001b[1;33m.\u001b[0m\u001b[0mcall\u001b[0m\u001b[1;33m\u001b[0m\u001b[1;33m\u001b[0m\u001b[0m\n",
      "\u001b[1;32m~\\Anaconda3\\envs\\voltron\\lib\\site-packages\\tensorflow\\python\\keras\\engine\\input_spec.py\u001b[0m in \u001b[0;36massert_input_compatibility\u001b[1;34m(input_spec, inputs, layer_name)\u001b[0m\n\u001b[0;32m    202\u001b[0m \u001b[1;33m\u001b[0m\u001b[0m\n\u001b[0;32m    203\u001b[0m   \u001b[1;32mif\u001b[0m \u001b[0mlen\u001b[0m\u001b[1;33m(\u001b[0m\u001b[0minputs\u001b[0m\u001b[1;33m)\u001b[0m \u001b[1;33m!=\u001b[0m \u001b[0mlen\u001b[0m\u001b[1;33m(\u001b[0m\u001b[0minput_spec\u001b[0m\u001b[1;33m)\u001b[0m\u001b[1;33m:\u001b[0m\u001b[1;33m\u001b[0m\u001b[1;33m\u001b[0m\u001b[0m\n\u001b[1;32m--> 204\u001b[1;33m     raise ValueError('Layer ' + layer_name + ' expects ' +\n\u001b[0m\u001b[0;32m    205\u001b[0m                      \u001b[0mstr\u001b[0m\u001b[1;33m(\u001b[0m\u001b[0mlen\u001b[0m\u001b[1;33m(\u001b[0m\u001b[0minput_spec\u001b[0m\u001b[1;33m)\u001b[0m\u001b[1;33m)\u001b[0m \u001b[1;33m+\u001b[0m \u001b[1;34m' input(s), '\u001b[0m\u001b[1;33m\u001b[0m\u001b[1;33m\u001b[0m\u001b[0m\n\u001b[0;32m    206\u001b[0m                      \u001b[1;34m'but it received '\u001b[0m \u001b[1;33m+\u001b[0m \u001b[0mstr\u001b[0m\u001b[1;33m(\u001b[0m\u001b[0mlen\u001b[0m\u001b[1;33m(\u001b[0m\u001b[0minputs\u001b[0m\u001b[1;33m)\u001b[0m\u001b[1;33m)\u001b[0m \u001b[1;33m+\u001b[0m\u001b[1;33m\u001b[0m\u001b[1;33m\u001b[0m\u001b[0m\n",
      "\u001b[1;31mValueError\u001b[0m: Layer model_2 expects 2 input(s), but it received 1 input tensors. Inputs received: [<tf.Tensor: shape=(1024, 4096), dtype=float32, numpy=\narray([[ -1.6155552 ,  -3.6643739 ,   1.3068848 , ...,  -6.1157217 ,\n         -0.67167836,   1.210375  ],\n       [ -1.6155552 ,  -3.6643739 ,   1.3068848 , ...,  -6.1157217 ,\n         -0.67167836,   1.210375  ],\n       [ -1.6155552 ,  -3.6643739 ,   1.3068848 , ...,  -6.1157217 ,\n         -0.67167836,   1.210375  ],\n       ...,\n       [ -0.8937439 ,  -1.1320702 ,  -0.5085614 , ..., -12.828728  ,\n         -0.04592862,   2.0970378 ],\n       [ -0.8937439 ,  -1.1320702 ,  -0.5085614 , ..., -12.828728  ,\n         -0.04592862,   2.0970378 ],\n       [ -0.8937439 ,  -1.1320702 ,  -0.5085614 , ..., -12.828728  ,\n         -0.04592862,   2.0970378 ]], dtype=float32)>]"
     ]
    }
   ],
   "source": [
    "optimizer = tf.keras.optimizers.Adam()\n",
    "\n",
    "for i in range(1):\n",
    "    count = i % shuffle_step\n",
    "    # if count == 0:\n",
    "    #     data_loader.shuffle_inds()\n",
    "    im_feats, sent_feats, labels = data_loader.get_batch(count, batch_size, sent_sample_size)\n",
    "    _batch_loss = tf.constant(0, dtype=tf.float32)\n",
    "    with tf.GradientTape() as tape:\n",
    "        [im_emb, sent_emb] = model(im_feats, sent_feats)\n",
    "\n",
    "        _batch_loss += loss(im_embeds, sent_emb, labels)\n",
    "\n",
    "    trainable_variables = model.trainable_variables\n",
    "\n",
    "    gradients = tape.gradient(_batch_loss, trainable_variables)\n",
    "    optimizer.apply_gradients(zip(gradients, trainable_variables))\n",
    "\n",
    "    # total_loss.append(_batch_loss / int(im_feats.shape[1]))"
   ]
  },
  {
   "source": [
    "# currently the data looks like \n",
    "\n",
    "# sample size | img_feats | sent_feats\n",
    "# ====================================\n",
    "# 1           | img1      | [s1, s2, s3, s4, s5]\n",
    "# 2           | img2      | [s1, s2, s3, s4, s5]\n",
    "\n",
    "# we need it to be \n",
    "\n",
    "# sample size | img_feats | sent_feats\n",
    "# ====================================\n",
    "# 1           | img1      | s1\n",
    "# 1           | img1      | s2\n",
    "# 1           | img1      | s3\n",
    "# 1           | img1      | s4\n",
    "# 1           | img1      | s5\n",
    "# 1           | img2      | s1\n",
    "# 2           | img2      | s2 and so on"
   ],
   "cell_type": "code",
   "metadata": {},
   "execution_count": 30,
   "outputs": [
    {
     "output_type": "error",
     "ename": "SyntaxError",
     "evalue": "invalid syntax (<ipython-input-30-aa214f857402>, line 1)",
     "traceback": [
      "\u001b[1;36m  File \u001b[1;32m\"<ipython-input-30-aa214f857402>\"\u001b[1;36m, line \u001b[1;32m1\u001b[0m\n\u001b[1;33m    currently the data looks like\u001b[0m\n\u001b[1;37m              ^\u001b[0m\n\u001b[1;31mSyntaxError\u001b[0m\u001b[1;31m:\u001b[0m invalid syntax\n"
     ]
    }
   ]
  },
  {
   "cell_type": "code",
   "execution_count": 29,
   "metadata": {},
   "outputs": [
    {
     "output_type": "execute_result",
     "data": {
      "text/plain": [
       "(5, 6000)"
      ]
     },
     "metadata": {},
     "execution_count": 29
    }
   ],
   "source": []
  },
  {
   "cell_type": "code",
   "execution_count": null,
   "metadata": {},
   "outputs": [],
   "source": []
  }
 ]
}