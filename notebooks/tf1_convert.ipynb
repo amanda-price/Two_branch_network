{
 "metadata": {
  "language_info": {
   "codemirror_mode": {
    "name": "ipython",
    "version": 3
   },
   "file_extension": ".py",
   "mimetype": "text/x-python",
   "name": "python",
   "nbconvert_exporter": "python",
   "pygments_lexer": "ipython3",
   "version": "3.7.7-final"
  },
  "orig_nbformat": 2,
  "kernelspec": {
   "name": "eos",
   "display_name": "eos"
  }
 },
 "nbformat": 4,
 "nbformat_minor": 2,
 "cells": [
  {
   "cell_type": "code",
   "execution_count": 3,
   "metadata": {},
   "outputs": [],
   "source": [
    "%load_ext autoreload\n",
    "%autoreload 2\n",
    "\n",
    "import os\n",
    "\n",
    "os.chdir('..') # run once"
   ]
  },
  {
   "cell_type": "code",
   "execution_count": 4,
   "metadata": {},
   "outputs": [],
   "source": [
    "from src.dataset_utils import DatasetLoader\n",
    "from src.retrieval_model import FullyConnected\n",
    "import tensorflow as tf\n",
    "import numpy as np"
   ]
  },
  {
   "cell_type": "code",
   "execution_count": 3,
   "metadata": {},
   "outputs": [
    {
     "output_type": "stream",
     "name": "stdout",
     "text": [
      "Loading image features from ./data/flickr30k_vgg_image_feat_test.mat\n",
      "Loaded image feature shape: (1000, 4096)\n",
      "Loading sentence features from ./data/flickr30k_text_feat_test.mat\n",
      "Loaded sentence feature shape: (5000, 6000)\n"
     ]
    }
   ],
   "source": [
    "loader = DatasetLoader(\"./data/flickr30k_vgg_image_feat_test.mat\", \"./data/flickr30k_text_feat_test.mat\")"
   ]
  },
  {
   "cell_type": "code",
   "execution_count": 10,
   "metadata": {},
   "outputs": [],
   "source": [
    "inputs = np.random.rand(500, 4096)\n",
    "outputs = np.random.rand(500 * 2, 6000)\n",
    "labels = np.random.rand(500 * 2, 500)"
   ]
  },
  {
   "cell_type": "code",
   "execution_count": 7,
   "metadata": {},
   "outputs": [],
   "source": [
    "import tensorflow.keras.layers as layers\n",
    "from tensorflow.keras.models import Model\n",
    "\n",
    "\n",
    "def fully_connected(hidden=2048, dropout=0.25):\n",
    "    def _inner(in_layer):\n",
    "        x = layers.Dense(hidden)(in_layer)\n",
    "        x = layers.BatchNormalization()(x)\n",
    "        x = layers.ReLU()(x)\n",
    "        x = layers.Dropout(dropout)(x)\n",
    "        return x\n",
    "    return _inner\n",
    "\n",
    "\n",
    "def embedding_model(img_feats, sent_feats):\n",
    "    img_in = layers.Input(shape=img_feats)\n",
    "    sent_in = layers.Input(shape=sent_feats)\n",
    "\n",
    "    img_fc = fully_connected()(img_in)\n",
    "    img_fc2 = layers.Dense(512)(img_fc)\n",
    "    img_embedded = tf.nn.l2_normalize(img_fc2,1, 1e-10)\n",
    "\n",
    "    sent_fc = fully_connected()(sent_in)\n",
    "    sent_fc2 = layers.Dense(512)(sent_fc)\n",
    "    sent_embedded = tf.nn.l2_normalize(sent_fc2,1, 1e-10)\n",
    "\n",
    "    model = Model(inputs=[img_in, sent_in], outputs=[img_embedded, sent_embedded])\n",
    "    return model\n"
   ]
  },
  {
   "cell_type": "code",
   "execution_count": 8,
   "metadata": {},
   "outputs": [],
   "source": [
    "m = embedding_model((4096,), (6000,))"
   ]
  },
  {
   "cell_type": "code",
   "execution_count": 9,
   "metadata": {},
   "outputs": [
    {
     "output_type": "stream",
     "name": "stdout",
     "text": [
      "Model: \"model\"\n__________________________________________________________________________________________________\nLayer (type)                    Output Shape         Param #     Connected to                     \n==================================================================================================\ninput_1 (InputLayer)            [(None, 4096)]       0                                            \n__________________________________________________________________________________________________\ninput_2 (InputLayer)            [(None, 6000)]       0                                            \n__________________________________________________________________________________________________\ndense (Dense)                   (None, 2048)         8390656     input_1[0][0]                    \n__________________________________________________________________________________________________\ndense_2 (Dense)                 (None, 2048)         12290048    input_2[0][0]                    \n__________________________________________________________________________________________________\nbatch_normalization (BatchNorma (None, 2048)         8192        dense[0][0]                      \n__________________________________________________________________________________________________\nbatch_normalization_1 (BatchNor (None, 2048)         8192        dense_2[0][0]                    \n__________________________________________________________________________________________________\nre_lu (ReLU)                    (None, 2048)         0           batch_normalization[0][0]        \n__________________________________________________________________________________________________\nre_lu_1 (ReLU)                  (None, 2048)         0           batch_normalization_1[0][0]      \n__________________________________________________________________________________________________\ndropout (Dropout)               (None, 2048)         0           re_lu[0][0]                      \n__________________________________________________________________________________________________\ndropout_1 (Dropout)             (None, 2048)         0           re_lu_1[0][0]                    \n__________________________________________________________________________________________________\ndense_1 (Dense)                 (None, 512)          1049088     dropout[0][0]                    \n__________________________________________________________________________________________________\ndense_3 (Dense)                 (None, 512)          1049088     dropout_1[0][0]                  \n__________________________________________________________________________________________________\ntf_op_layer_l2_normalize/Square [(None, 512)]        0           dense_1[0][0]                    \n__________________________________________________________________________________________________\ntf_op_layer_l2_normalize_1/Squa [(None, 512)]        0           dense_3[0][0]                    \n__________________________________________________________________________________________________\ntf_op_layer_l2_normalize/Sum (T [(None, 1)]          0           tf_op_layer_l2_normalize/Square[0\n__________________________________________________________________________________________________\ntf_op_layer_l2_normalize_1/Sum  [(None, 1)]          0           tf_op_layer_l2_normalize_1/Square\n__________________________________________________________________________________________________\ntf_op_layer_l2_normalize/Maximu [(None, 1)]          0           tf_op_layer_l2_normalize/Sum[0][0\n__________________________________________________________________________________________________\ntf_op_layer_l2_normalize_1/Maxi [(None, 1)]          0           tf_op_layer_l2_normalize_1/Sum[0]\n__________________________________________________________________________________________________\ntf_op_layer_l2_normalize/Rsqrt  [(None, 1)]          0           tf_op_layer_l2_normalize/Maximum[\n__________________________________________________________________________________________________\ntf_op_layer_l2_normalize_1/Rsqr [(None, 1)]          0           tf_op_layer_l2_normalize_1/Maximu\n__________________________________________________________________________________________________\ntf_op_layer_l2_normalize (Tenso [(None, 512)]        0           dense_1[0][0]                    \n                                                                 tf_op_layer_l2_normalize/Rsqrt[0]\n__________________________________________________________________________________________________\ntf_op_layer_l2_normalize_1 (Ten [(None, 512)]        0           dense_3[0][0]                    \n                                                                 tf_op_layer_l2_normalize_1/Rsqrt[\n==================================================================================================\nTotal params: 22,795,264\nTrainable params: 22,787,072\nNon-trainable params: 8,192\n__________________________________________________________________________________________________\n"
     ]
    }
   ],
   "source": [
    "m.summary()"
   ]
  },
  {
   "cell_type": "code",
   "execution_count": null,
   "metadata": {},
   "outputs": [],
   "source": []
  }
 ]
}